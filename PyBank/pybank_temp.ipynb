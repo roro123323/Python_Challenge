{
 "cells": [
  {
   "cell_type": "code",
   "execution_count": 1,
   "metadata": {},
   "outputs": [
    {
     "name": "stdout",
     "output_type": "stream",
     "text": [
      "-------------------------------\n",
      "Financial Analysis\n",
      "-------------------------------\n",
      "Total Months : 86\n",
      "Total Profits : $22564198\n",
      "Average Change : $4448\n",
      "Greatest Increase in Profits : Aug-16 ($1862002)\n",
      "Greatest Decrease in Profits : Feb-14 ($-1825558)\n",
      "-------------------------------\n"
     ]
    }
   ],
   "source": [
    "# Author: Roel De Los Santos\n",
    "# Title: PyBank - Module 3 assignment\n",
    "# Date : 7/16/2023\n",
    "\n",
    "import os\n",
    "import csv \n",
    "\n",
    "# Define the file path\n",
    "p = 'Resources/budget_data.csv'\n",
    "#p = '/Users/roelj/OneDrive/Desktop/school/Python_Challenge/PyBank/Resources/budget_data.csv'\n",
    "\n",
    "# Initialize variables \n",
    "count = 0\n",
    "totPL = 0\n",
    "mtmchanges = []\n",
    "\n",
    "with open(p, 'r') as budget_data:\n",
    "    readcsv = csv.reader(budget_data, delimiter= ',')\n",
    "    # Handle the header\n",
    "    header = next(readcsv)\n",
    "    prevPL = 0 \n",
    "     # Loop rows \n",
    "    for row in readcsv:\n",
    "        profit_loss = int(row[1])\n",
    "        count += 1 \n",
    "        totPL += profit_loss\n",
    "        mtmchanges.append([row[0], profit_loss - prevPL])\n",
    "        prevPL = profit_loss \n",
    "# use lambda for function on list of list \n",
    "max_change = max(mtmchanges, key = lambda x: x[1])\n",
    "min_change = min(mtmchanges, key = lambda x: x[1])  \n",
    "\n",
    "# Average change \n",
    "average_change = sum(map(lambda x: int(x[1]), mtmchanges)) / count \n",
    "\n",
    "print('-------------------------------')\n",
    "print('Financial Analysis')\n",
    "print('-------------------------------')\n",
    "print('Total Months : ' + str(count))\n",
    "print('Total Profits : ' + '$' + str(totPL))\n",
    "print('Average Change : ' + '$' + str(int(average_change)))\n",
    "print('Greatest Increase in Profits : ' + str(max_change[0]) + ' ($' + str(max_change[1]) + ')')\n",
    "print('Greatest Decrease in Profits : ' + str(min_change[0]) + ' ($' + str(min_change[1]) + ')')\n",
    "print('-------------------------------')\n",
    "\n",
    "# Write Financial analysis summary to txt file \n",
    "outputfile = 'summary.txt'\n",
    "\n",
    "#use '\\n' to create a new line \n",
    "with open(outputfile, 'w') as output: \n",
    "    output.write('_'*50 + '\\n')\n",
    "    output.write('Financial Analysis\\n')\n",
    "    output.write('_'*50 + '\\n')\n",
    "    output.write(f'Total Months: {count}\\n' ) \n",
    "    output.write(f'Total Profits: ${totPL}\\n')\n",
    "    output.write(f'Average Change: ${str(average_change)}\\n')\n",
    "    output.write(f'Greatest Increase in Profits:{max_change[0]} (${max_change[1]})\\n')\n",
    "    output.write(f'Greatest Decrease in Profits:{min_change[0]} (${min_change[1]})\\n')\n",
    "    output.write('_'*50 + '\\n')\n",
    "\n",
    "\n"
   ]
  },
  {
   "cell_type": "code",
   "execution_count": 2,
   "metadata": {},
   "outputs": [
    {
     "name": "stdout",
     "output_type": "stream",
     "text": [
      "c:\\Users\\roelj\\OneDrive\\Desktop\\school\\Python_Challenge\\PyBank\n"
     ]
    }
   ],
   "source": [
    "import os \n",
    "a = os.getcwd()\n",
    "print(a)"
   ]
  }
 ],
 "metadata": {
  "kernelspec": {
   "display_name": "dev2",
   "language": "python",
   "name": "dev2"
  },
  "language_info": {
   "codemirror_mode": {
    "name": "ipython",
    "version": 3
   },
   "file_extension": ".py",
   "mimetype": "text/x-python",
   "name": "python",
   "nbconvert_exporter": "python",
   "pygments_lexer": "ipython3",
   "version": "3.10.9"
  },
  "orig_nbformat": 4
 },
 "nbformat": 4,
 "nbformat_minor": 2
}
